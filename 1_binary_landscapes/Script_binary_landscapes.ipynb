{
 "cells": [
  {
   "cell_type": "code",
   "execution_count": 301,
   "id": "b5c23b43",
   "metadata": {},
   "outputs": [],
   "source": [
    "# Read the input file\n",
    "with open('data/1_binary_landscapes.txt','r') as f:\n",
    "    listl=[]\n",
    "\n",
    "    for line in f:\n",
    "        strip_lines=line.strip()\n",
    "        listli=strip_lines.split()\n",
    "        listl.append(listli)\n",
    "del listl[0]\n",
    "\n",
    "#Sort the file so that its in order by the amount of \n",
    "for i in range(len(listl)):\n",
    "    listl[i].insert(0,str(i))\n",
    "listl=sorted(listl, key = lambda x: int(x[2]))"
   ]
  },
  {
   "cell_type": "code",
   "execution_count": 302,
   "id": "d13a58dd",
   "metadata": {},
   "outputs": [],
   "source": [
    "mydict = {}\n",
    "\n",
    "# Travel the sorted list ans create a dictionary that each key is the number of tags and the value are an array of tags.\n",
    "for i in listl:\n",
    "\n",
    "    #chek if the dictionary exists and  the frame to an existing key.\n",
    "    if i[2] in mydict.keys():\n",
    "        mydict[i[2]].append(i)\n",
    "        \n",
    "    # create the key and add the frame\n",
    "    else:\n",
    "        mydict[i[2]] =[]\n",
    "        mydict[i[2]].append(i)"
   ]
  },
  {
   "cell_type": "code",
   "execution_count": 303,
   "id": "ff9fe2bc",
   "metadata": {},
   "outputs": [
    {
     "data": {
      "text/plain": [
       "['9',\n",
       " '12',\n",
       " '15',\n",
       " '18',\n",
       " '21',\n",
       " '24',\n",
       " '27',\n",
       " '30',\n",
       " '33',\n",
       " '36',\n",
       " '39',\n",
       " '42',\n",
       " '45',\n",
       " '51']"
      ]
     },
     "execution_count": 303,
     "metadata": {},
     "output_type": "execute_result"
    }
   ],
   "source": [
    "#sort the dictionary\n",
    "def my_key(dict_key):\n",
    "    try:\n",
    "         return int(dict_key)\n",
    "         \n",
    "    except ValueError:\n",
    "         return dict_key\n",
    "\n",
    "sorted(mydict, key=my_key)\n"
   ]
  },
  {
   "cell_type": "code",
   "execution_count": 304,
   "id": "44a4575b",
   "metadata": {},
   "outputs": [],
   "source": [
    "#abc = mydict[\"9\"]\n",
    "#del abc[0:990]\n",
    "#print(len(abc))\n",
    "#print(*abc,sep='\\n')"
   ]
  },
  {
   "cell_type": "code",
   "execution_count": 305,
   "id": "1a94c617",
   "metadata": {},
   "outputs": [
    {
     "name": "stdout",
     "output_type": "stream",
     "text": [
      "Key 9\n",
      "Total Score 612\n",
      "--- 18.309459924697876 seconds ---\n",
      "Key 12\n",
      "Total Score 5817\n",
      "--- 202.26480197906494 seconds ---\n",
      "Key 15\n",
      "Total Score 16722\n",
      "--- 511.32928109169006 seconds ---\n",
      "Key 18\n",
      "Total Score 23484\n",
      "--- 559.9099991321564 seconds ---\n",
      "Key 21\n",
      "Total Score 18405\n",
      "--- 437.78343892097473 seconds ---\n",
      "Key 24\n",
      "Total Score 9324\n",
      "--- 160.2574269771576 seconds ---\n",
      "Key 27\n",
      "Total Score 3381\n",
      "--- 41.73214626312256 seconds ---\n",
      "Key 30\n",
      "Total Score 828\n",
      "--- 8.055361986160278 seconds ---\n",
      "Key 33\n",
      "Total Score 183\n",
      "--- 1.140592098236084 seconds ---\n",
      "Key 36\n",
      "Total Score 27\n",
      "--- 0.10010313987731934 seconds ---\n",
      "Key 39\n",
      "Total Score 3\n",
      "--- 0.013186931610107422 seconds ---\n",
      "Key 42\n",
      "Total Score 0\n",
      "--- 0.0006656646728515625 seconds ---\n",
      "Key 45\n",
      "Total Score 0\n",
      "--- 0.0001373291015625 seconds ---\n",
      "Key 51\n",
      "Total Score 0\n",
      "--- 2.574920654296875e-05 seconds ---\n"
     ]
    }
   ],
   "source": [
    "import time\n",
    "\n",
    "# Function that returns the robotic satisfaction \n",
    "def minvalue(set1, set2):\n",
    "    common = len(set(set1).intersection(set2))\n",
    "    return min(len(set1)-common, common, len(set2)-common)\n",
    "\n",
    "\n",
    "#This method will sort all the frames of a key maximazing the robot satisfaction\n",
    "def sortDictionary(arrayOfFrames):\n",
    "    data =[]\n",
    "    total=0\n",
    "    data.append(arrayOfFrames[0])\n",
    "    del arrayOfFrames[0]\n",
    "\n",
    "    # Loop to search all the frames.\n",
    "    for i in range(len(arrayOfFrames)):\n",
    "        numMaximunIntersection=0\n",
    "        nextFrame=[]\n",
    "\n",
    "        #loop to compare the actual frame with all of the others remaining\n",
    "        for j in arrayOfFrames:\n",
    "\n",
    "            min = minvalue(set(data[i][3:]),set(j[3:]))\n",
    "\n",
    "            #Check which frame its the best to compare with \n",
    "            if min >=numMaximunIntersection:\n",
    "                nextFrame=j\n",
    "                numMaximunIntersection= min\n",
    "                \n",
    "        data.append(nextFrame)\n",
    "        total = total + numMaximunIntersection\n",
    "        arrayOfFrames.remove(nextFrame)\n",
    "\n",
    "\n",
    "    print(\"Total Score\",total)\n",
    "    return data\n",
    "\n",
    "# This method will sort all the dictionary\n",
    "def sortFramesArray(frameDict):\n",
    "\n",
    "    f= open(\"landscapes.txt\",\"w+\")\n",
    "    f.write(str(len(listl)))\n",
    "    f.write('\\n')\n",
    "\n",
    "    #sort all the values of every key in a dictionary.\n",
    "    for key in frameDict:\n",
    "        \n",
    "        print(\"Key\",key)\n",
    "        start_time = time.time()\n",
    "        sortedArray=[]\n",
    "        sortedArray = sortDictionary(frameDict[key])\n",
    "        print(\"--- %s seconds ---\" % (time.time() - start_time))\n",
    "\n",
    "        for frame in sortedArray:\n",
    "            f.write(frame[0])\n",
    "            f.write('\\n')\n",
    "            \n",
    "        # we could do multitheading here.\n",
    "   \n",
    "    f.close\n",
    "\n",
    "#print(len(sortFramesArray(mydict)))\n",
    "\n",
    "sortFramesArray(mydict)\n"
   ]
  },
  {
   "cell_type": "code",
   "execution_count": 306,
   "id": "575d2c49",
   "metadata": {},
   "outputs": [
    {
     "name": "stdout",
     "output_type": "stream",
     "text": [
      "80000\n"
     ]
    }
   ],
   "source": [
    "import pandas as pd\n",
    "\n",
    "dataset_raw = pd.read_csv('landscapes.txt')\n",
    "\n",
    "dataset_raw.head(5)\n",
    "print(len(dataset_raw))"
   ]
  },
  {
   "cell_type": "code",
   "execution_count": 307,
   "id": "c46b906f",
   "metadata": {},
   "outputs": [
    {
     "data": {
      "text/plain": [
       "0"
      ]
     },
     "execution_count": 307,
     "metadata": {},
     "output_type": "execute_result"
    }
   ],
   "source": [
    "dataset_raw.duplicated().sum()"
   ]
  },
  {
   "cell_type": "code",
   "execution_count": null,
   "id": "4aaee159",
   "metadata": {},
   "outputs": [],
   "source": []
  }
 ],
 "metadata": {
  "kernelspec": {
   "display_name": "Python 3 (ipykernel)",
   "language": "python",
   "name": "python3"
  },
  "language_info": {
   "codemirror_mode": {
    "name": "ipython",
    "version": 3
   },
   "file_extension": ".py",
   "mimetype": "text/x-python",
   "name": "python",
   "nbconvert_exporter": "python",
   "pygments_lexer": "ipython3",
   "version": "3.8.8"
  }
 },
 "nbformat": 4,
 "nbformat_minor": 5
}
