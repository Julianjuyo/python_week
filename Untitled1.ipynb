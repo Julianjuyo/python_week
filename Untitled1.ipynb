{
 "cells": [
  {
   "cell_type": "code",
   "execution_count": 38,
   "id": "b5c23b43",
   "metadata": {},
   "outputs": [],
   "source": [
    "with open('data/1_binary_landscapes.txt','r') as f:\n",
    "    listl=[]\n",
    "\n",
    "    for line in f:\n",
    "        strip_lines=line.strip()\n",
    "        listli=strip_lines.split()\n",
    "        listl.append(listli)\n",
    "del listl[0]\n",
    "\n",
    "for i in range(len(listl)):\n",
    "    listl[i].insert(0,str(i))\n",
    "listl=sorted(listl, key = lambda x: int(x[2]))"
   ]
  },
  {
   "cell_type": "code",
   "execution_count": 39,
   "id": "d13a58dd",
   "metadata": {},
   "outputs": [],
   "source": [
    "mydict = {}\n",
    "\n",
    "for i in listl:\n",
    "\n",
    "    if i[2] in mydict.keys():\n",
    "        mydict[i[2]].append(i)\n",
    "        \n",
    "    else:\n",
    "        mydict[i[2]] =[]\n",
    "        mydict[i[2]].append(i)"
   ]
  },
  {
   "cell_type": "code",
   "execution_count": 40,
   "id": "ff9fe2bc",
   "metadata": {},
   "outputs": [
    {
     "data": {
      "text/plain": [
       "['9',\n",
       " '12',\n",
       " '15',\n",
       " '18',\n",
       " '21',\n",
       " '24',\n",
       " '27',\n",
       " '30',\n",
       " '33',\n",
       " '36',\n",
       " '39',\n",
       " '42',\n",
       " '45',\n",
       " '51']"
      ]
     },
     "execution_count": 40,
     "metadata": {},
     "output_type": "execute_result"
    }
   ],
   "source": [
    "def my_key(dict_key):\n",
    "    try:\n",
    "         return int(dict_key)\n",
    "         \n",
    "    except ValueError:\n",
    "         return dict_key\n",
    "\n",
    "sorted(mydict, key=my_key)\n"
   ]
  },
  {
   "cell_type": "code",
   "execution_count": 41,
   "id": "44a4575b",
   "metadata": {},
   "outputs": [],
   "source": [
    "abc = mydict[\"42\"]\n",
    "#del abc[0:2010]\n",
    "#print(abc)"
   ]
  },
  {
   "cell_type": "code",
   "execution_count": 43,
   "id": "1a94c617",
   "metadata": {},
   "outputs": [
    {
     "name": "stdout",
     "output_type": "stream",
     "text": [
      "9\n",
      "Total 10197\n",
      "12\n",
      "Total 31167\n",
      "15\n"
     ]
    }
   ],
   "source": [
    "def minvalue(set1, set2):\n",
    "    left = set1-set2\n",
    "    inter= set1.intersection(set2)\n",
    "    right=set2-set1\n",
    "    return min(len(left),len(inter),len(right))\n",
    "\n",
    "\n",
    "def sortDictionary(arrayOfFrames):\n",
    "    data =[]\n",
    "    total=0\n",
    "\n",
    "    data.append(arrayOfFrames[0])\n",
    "\n",
    "    arrayOfFramesAux= arrayOfFrames\n",
    "    del arrayOfFramesAux[0]\n",
    "\n",
    "    #print(arrayOfFramesAux)\n",
    "\n",
    "    for i in range(len(arrayOfFrames)):\n",
    "        numMaximunIntersection = 0\n",
    "        nextFrame =[]\n",
    "\n",
    "        for j in arrayOfFramesAux:\n",
    "            #print(\"HERE\",data[i])\n",
    "            #print(\"HERE WITH\",j)\n",
    "            min = minvalue(set(data[i][3:]),set(j[3:]))\n",
    "\n",
    "            if min >= numMaximunIntersection:        \n",
    "                nextFrame=j\n",
    "                numMaximunIntersection= min\n",
    "                \n",
    "        \n",
    "        data.append(nextFrame)\n",
    "        total = total + numMaximunIntersection\n",
    "        arrayOfFramesAux.remove(j)\n",
    "        #print(\"NEWWWWW\",data)\n",
    "\n",
    "    print(\"Total\",total)\n",
    "    return data\n",
    "\n",
    "def sortFramesArray(frameDict):\n",
    "\n",
    "    listWithFrames = []\n",
    "\n",
    "    for key in frameDict:\n",
    "        print(key)\n",
    "\n",
    "        #print(frameDict[key])\n",
    "\n",
    "        sortedArray = sortDictionary(frameDict[key])\n",
    "        listWithFrames.append(sortedArray)\n",
    "    return listWithFrames\n",
    "\n",
    "\n",
    "#print(len(sortDictionary(mydict[\"9\"])))\n",
    "print(len(sortFramesArray(mydict)))\n"
   ]
  },
  {
   "cell_type": "code",
   "execution_count": null,
   "id": "6517539a",
   "metadata": {},
   "outputs": [],
   "source": []
  }
 ],
 "metadata": {
  "kernelspec": {
   "display_name": "Python 3 (ipykernel)",
   "language": "python",
   "name": "python3"
  },
  "language_info": {
   "codemirror_mode": {
    "name": "ipython",
    "version": 3
   },
   "file_extension": ".py",
   "mimetype": "text/x-python",
   "name": "python",
   "nbconvert_exporter": "python",
   "pygments_lexer": "ipython3",
   "version": "3.8.8"
  }
 },
 "nbformat": 4,
 "nbformat_minor": 5
}
