{
 "cells": [
  {
   "cell_type": "code",
   "execution_count": null,
   "metadata": {},
   "outputs": [],
   "source": [
    "# Read the input file\n",
    "framesLandScapes ={}\n",
    "portraits ={}\n",
    "intid =0\n",
    "\n",
    "with open('10_computable_moments.txt','r') as f:\n",
    "    listl=[]\n",
    "\n",
    "    for line in f:\n",
    "        strip_lines=line.strip()\n",
    "        listli=strip_lines.split()\n",
    "        \n",
    "        if listli[0]==\"P\":\n",
    "            portraits[intid]={'paintId':intid,'type':listli[0], 'NumofTags':int(listli[1]), 'tags':listli[2:]}\n",
    "            intid =intid+1\n",
    "        elif listli[0]==\"L\":\n",
    "            framesLandScapes[intid]={'paintId':intid,'type':listli[0], 'NumofTags':int(listli[1]), 'tags':listli[2:]}\n",
    "            intid =intid+1\n",
    "\n",
    "# sort the portraits \n",
    "#for i in range(len(portraits)):\n",
    "#    portraits[i].insert(0,str(i))\n",
    "#portraits=sorted(portraits, key = lambda x: int(x[2]))\n",
    "\n",
    "print(intid)\n",
    "print(len(portraits))\n",
    "\n",
    "\n",
    "\n"
   ]
  },
  {
   "cell_type": "code",
   "execution_count": null,
   "metadata": {},
   "outputs": [],
   "source": [
    "\n",
    "\n",
    "#print(portraits)  \n",
    "# First 0: {'paintId': 0, 'type': 'P', 'NumofTags': '7', 'tags': ['kw52', 'k17', 'kmz1', 'k1l', 'k8b1', 'kg6', 'kjb1']}\n",
    "\n",
    "# Last 999: {'paintId': 999, 'type': 'P', 'NumofTags': '5', 'tags': ['kpc', 'k4q', 'k3j1', 'k031', 'kqx']}\n",
    "\n",
    "\n",
    "newPortraits={}\n",
    "\n",
    "print(len(portraits))\n",
    "\n",
    "for i in range(int(len(portraits)/2)):\n",
    "\n",
    "    first = list(portraits.values())[0]\n",
    "    last = portraits[list(portraits)[-1]]\n",
    "    id= str(first[\"paintId\"])+\" \"+str(last[\"paintId\"])\n",
    "\n",
    "    newPortraits[id]={'paintId':id,'type':first[\"type\"], 'NumofTags':int(first[\"NumofTags\"])+int(last[\"NumofTags\"]), 'tags':first[\"tags\"]+last[\"tags\"]}\n",
    "\n",
    "    portraits.pop(first[\"paintId\"])\n",
    "    portraits.pop(last[\"paintId\"])\n",
    "    \n",
    "#print(len(newPortraits))\n",
    "#print(len(portraits))\n",
    "#print(newPortraits)\n",
    "\n",
    "    #for j in reversed(portraits):\n",
    "    #print(j, portraits[j])"
   ]
  },
  {
   "cell_type": "code",
   "execution_count": 146,
   "metadata": {},
   "outputs": [
    {
     "name": "stdout",
     "output_type": "stream",
     "text": [
      "750\n"
     ]
    }
   ],
   "source": [
    "frames ={**newPortraits, **framesLandScapes}\n",
    "print(len(frames))"
   ]
  },
  {
   "cell_type": "code",
   "execution_count": null,
   "metadata": {},
   "outputs": [],
   "source": [
    "#from collections import OrderedDict\n",
    "\n",
    "#d_descending = OrderedDict(sorted(frames.items(), key=lambda kv: kv[1]['NumofTags'], reverse=True))\n",
    "\n",
    "#print(d_descending)"
   ]
  },
  {
   "cell_type": "code",
   "execution_count": null,
   "metadata": {},
   "outputs": [],
   "source": [
    "#This method will sort all the frames of a key maximazing the robot satisfaction\n",
    "def sortDictionary(arrayOfFrames):\n",
    "    data =[]\n",
    "    total=0\n",
    "    data.append(arrayOfFrames[0])\n",
    "    del arrayOfFrames[0]\n",
    "\n",
    "    # Loop to search all the frames.\n",
    "    for i in range(len(arrayOfFrames)):\n",
    "        numMaximunIntersection=0\n",
    "        nextFrame=[]\n",
    "\n",
    "        #loop to compare the actual frame with all of the others remaining\n",
    "        for j in arrayOfFrames:\n",
    "\n",
    "            min = minvalue(set(data[i][3:]),set(j[3:]))\n",
    "\n",
    "            #Check which frame its the best to compare with \n",
    "            if min >=numMaximunIntersection:\n",
    "                nextFrame=j\n",
    "                numMaximunIntersection= min\n",
    "                \n",
    "        data.append(nextFrame)\n",
    "        total = total + numMaximunIntersection\n",
    "        arrayOfFrames.remove(nextFrame)\n",
    "    print(\"Total Score\",total)\n",
    "    return data\n",
    "\n",
    "sortDictionary(frames)"
   ]
  }
 ],
 "metadata": {
  "interpreter": {
   "hash": "40d3a090f54c6569ab1632332b64b2c03c39dcf918b08424e98f38b5ae0af88f"
  },
  "kernelspec": {
   "display_name": "Python 3.8.8 ('base')",
   "language": "python",
   "name": "python3"
  },
  "language_info": {
   "codemirror_mode": {
    "name": "ipython",
    "version": 3
   },
   "file_extension": ".py",
   "mimetype": "text/x-python",
   "name": "python",
   "nbconvert_exporter": "python",
   "pygments_lexer": "ipython3",
   "version": "3.8.8"
  },
  "orig_nbformat": 4
 },
 "nbformat": 4,
 "nbformat_minor": 2
}
