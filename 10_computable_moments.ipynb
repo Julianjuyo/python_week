{
 "cells": [
  {
   "cell_type": "code",
   "execution_count": 20,
   "metadata": {},
   "outputs": [
    {
     "name": "stdout",
     "output_type": "stream",
     "text": [
      "1000\n",
      "500\n"
     ]
    }
   ],
   "source": [
    "# Read the input file\n",
    "framesLandScapes ={}\n",
    "portraits ={}\n",
    "intid =0\n",
    "\n",
    "with open('data/10_computable_moments.txt','r') as f:\n",
    "    listl=[]\n",
    "\n",
    "    for line in f:\n",
    "        strip_lines=line.strip()\n",
    "        listli=strip_lines.split()\n",
    "        \n",
    "        if listli[0]==\"P\":\n",
    "            portraits[intid]={'paintId':intid,'type':listli[0], 'NumofTags':listli[1], 'tags':listli[2:]}\n",
    "            intid =intid+1\n",
    "        elif listli[0]==\"L\":\n",
    "            framesLandScapes[intid]={'paintId':intid,'type':listli[0], 'NumofTags':listli[1], 'tags':listli[2:]}\n",
    "            intid =intid+1\n",
    "\n",
    "# sort the portraits \n",
    "#for i in range(len(portraits)):\n",
    "#    portraits[i].insert(0,str(i))\n",
    "#portraits=sorted(portraits, key = lambda x: int(x[2]))\n",
    "print(intid)\n",
    "print(len(portraits))\n",
    "\n",
    "\n",
    "\n"
   ]
  },
  {
   "cell_type": "code",
   "execution_count": null,
   "metadata": {},
   "outputs": [],
   "source": [
    "\n",
    "    "
   ]
  },
  {
   "cell_type": "code",
   "execution_count": null,
   "metadata": {},
   "outputs": [],
   "source": [
    "\n"
   ]
  }
 ],
 "metadata": {
  "interpreter": {
   "hash": "40d3a090f54c6569ab1632332b64b2c03c39dcf918b08424e98f38b5ae0af88f"
  },
  "kernelspec": {
   "display_name": "Python 3.8.8 ('base')",
   "language": "python",
   "name": "python3"
  },
  "language_info": {
   "codemirror_mode": {
    "name": "ipython",
    "version": 3
   },
   "file_extension": ".py",
   "mimetype": "text/x-python",
   "name": "python",
   "nbconvert_exporter": "python",
   "pygments_lexer": "ipython3",
   "version": "3.8.8"
  },
  "orig_nbformat": 4
 },
 "nbformat": 4,
 "nbformat_minor": 2
}
