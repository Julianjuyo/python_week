{
 "cells": [
  {
   "cell_type": "code",
   "execution_count": null,
   "id": "b5c23b43",
   "metadata": {},
   "outputs": [],
   "source": [
    "# Read the input file\n",
    "with open('1_binary_landscapes.txt','r') as f:\n",
    "    listl=[]\n",
    "\n",
    "    for line in f:\n",
    "        strip_lines=line.strip()\n",
    "        listli=strip_lines.split()\n",
    "        listl.append(listli)\n",
    "del listl[0]\n",
    "\n",
    "\n",
    "#Sort the file so that its in order by the amount of \n",
    "for i in range(len(listl)):\n",
    "    listl[i].insert(0,str(i))\n",
    "listl=sorted(listl, key = lambda x: int(x[2]))\n",
    "\n",
    "print(len(listl))"
   ]
  },
  {
   "cell_type": "code",
   "execution_count": null,
   "id": "c4de7f4a",
   "metadata": {},
   "outputs": [],
   "source": []
  },
  {
   "cell_type": "code",
   "execution_count": null,
   "id": "d13a58dd",
   "metadata": {},
   "outputs": [],
   "source": [
    "mydict = {}\n",
    "\n",
    "'''\n",
    "# Travel the sorted list ans create a dictionary that each key is the number of tags and the value are an array of tags.\n",
    "countGroups=0\n",
    "\n",
    "for i in listl:\n",
    "\n",
    "    #chek if the dictionary exists and  the frame to an existing key.\n",
    "    if i[2] in mydict.keys():\n",
    "        mydict[i[2]].append(i)\n",
    "        \n",
    "    # create the key and add the frame\n",
    "    else:\n",
    "        mydict[i[2]] =[]\n",
    "        mydict[i[2]].append(i)\n",
    "'''\n",
    "\n",
    "countGroups=0\n",
    "curentkey=\"\"\n",
    "\n",
    "for i in listl:\n",
    "\n",
    "    print(i)\n",
    "\n",
    "    if countGroups==4000:\n",
    "        countGroups=0\n",
    "\n",
    "    if countGroups==0:\n",
    "        \n",
    "        curentkey =i[0]\n",
    "        mydict[curentkey] =[]\n",
    "        mydict[curentkey].append(i)\n",
    "\n",
    "    else:\n",
    "    \n",
    "        mydict[curentkey].append(i)\n",
    "\n",
    "\n",
    "    countGroups = countGroups+1\n",
    "\n"
   ]
  },
  {
   "cell_type": "code",
   "execution_count": null,
   "id": "ff9fe2bc",
   "metadata": {},
   "outputs": [],
   "source": [
    "#sort the dictionary\n",
    "'''\n",
    "def my_key(dict_key):\n",
    "    try:\n",
    "         return int(dict_key)\n",
    "         \n",
    "    except ValueError:\n",
    "         return dict_key\n",
    "\n",
    "sorted(mydict, key=my_key)\n",
    "\n",
    "'''"
   ]
  },
  {
   "cell_type": "code",
   "execution_count": null,
   "id": "e0f6e245",
   "metadata": {},
   "outputs": [],
   "source": [
    "values=[]\n",
    "for i in mydict:\n",
    "    values.append(len(mydict[i]))\n",
    "\n",
    "print(values)    "
   ]
  },
  {
   "cell_type": "code",
   "execution_count": null,
   "id": "4ee5725c",
   "metadata": {},
   "outputs": [],
   "source": [
    "print(mydict[\"1\"])"
   ]
  },
  {
   "cell_type": "code",
   "execution_count": null,
   "id": "44a4575b",
   "metadata": {},
   "outputs": [],
   "source": [
    "#abc = mydict[\"9\"]\n",
    "#del abc[0:990]\n",
    "#print(len(abc))\n",
    "#print(*abc,sep='\\n')"
   ]
  },
  {
   "cell_type": "code",
   "execution_count": null,
   "id": "1a94c617",
   "metadata": {},
   "outputs": [],
   "source": [
    "import time\n",
    "\n",
    "# Function that returns the robotic satisfaction \n",
    "def minvalue(set1, set2):\n",
    "    common = len(set(set1).intersection(set2))\n",
    "    return min(len(set1)-common, common, len(set2)-common)\n",
    "\n",
    "\n",
    "\n",
    "#This method will sort all the frames of a key maximazing the robot satisfaction\n",
    "def sortDictionary(arrayOfFrames):\n",
    "    data =[]\n",
    "    total=0\n",
    "    data.append(arrayOfFrames[0])\n",
    "    del arrayOfFrames[0]\n",
    "\n",
    "    # Loop to search all the frames.\n",
    "    for i in range(len(arrayOfFrames)):\n",
    "        numMaximunIntersection=0\n",
    "        nextFrame=[]\n",
    "\n",
    "        #loop to compare the actual frame with all of the others remaining\n",
    "        for j in arrayOfFrames:\n",
    "\n",
    "            min = minvalue(set(data[i][3:]),set(j[3:]))\n",
    "\n",
    "            #Check which frame its the best to compare with \n",
    "            if min >=numMaximunIntersection:\n",
    "                nextFrame=j\n",
    "                numMaximunIntersection= min\n",
    "                \n",
    "        data.append(nextFrame)\n",
    "        total = total + numMaximunIntersection\n",
    "        arrayOfFrames.remove(nextFrame)\n",
    "\n",
    "\n",
    "    print(\"Local Score\",total)\n",
    "    return data,total\n",
    "\n",
    "# This method will sort all the dictionary\n",
    "def sortFramesArray(frameDict):\n",
    "\n",
    "    f= open(\"landscapes.txt\",\"w+\")\n",
    "    f.write(str(len(listl)))\n",
    "    f.write('\\n')\n",
    "    globalScore=0\n",
    "\n",
    "    #sort all the values of every key in a dictionary.\n",
    "    for key in frameDict:\n",
    "        \n",
    "        print(\"Key\",key)\n",
    "        print(\"number of frames\",len(frameDict[key]))\n",
    "        start_time = time.time()\n",
    "        \n",
    "        answer = sortDictionary(frameDict[key])\n",
    "        sortedArray = answer[0]\n",
    "        globalScore = globalScore+answer[1]\n",
    "        print(\"--- %s seconds ---\" % (time.time() - start_time))\n",
    "\n",
    "        for frame in sortedArray:\n",
    "            f.write(frame[0])\n",
    "            f.write('\\n')\n",
    "            \n",
    "        # we could do multitheading here.\n",
    "   \n",
    "    print(\"The global Score is\",globalScore)\n",
    "    f.close\n",
    "\n",
    "#print(len(sortFramesArray(mydict)))\n",
    "\n",
    "sortFramesArray(mydict)\n"
   ]
  },
  {
   "cell_type": "code",
   "execution_count": null,
   "id": "575d2c49",
   "metadata": {},
   "outputs": [],
   "source": [
    "import pandas as pd\n",
    "\n",
    "dataset_raw = pd.read_csv('landscapes.txt')\n",
    "\n",
    "dataset_raw.head(5)"
   ]
  },
  {
   "cell_type": "code",
   "execution_count": null,
   "id": "3c9d0714",
   "metadata": {},
   "outputs": [],
   "source": [
    "print(len(dataset_raw))"
   ]
  },
  {
   "cell_type": "code",
   "execution_count": null,
   "id": "c46b906f",
   "metadata": {},
   "outputs": [],
   "source": [
    "dataset_raw.duplicated().sum()"
   ]
  },
  {
   "cell_type": "code",
   "execution_count": null,
   "id": "4aaee159",
   "metadata": {},
   "outputs": [],
   "source": []
  }
 ],
 "metadata": {
  "kernelspec": {
   "display_name": "Python 3 (ipykernel)",
   "language": "python",
   "name": "python3"
  },
  "language_info": {
   "codemirror_mode": {
    "name": "ipython",
    "version": 3
   },
   "file_extension": ".py",
   "mimetype": "text/x-python",
   "name": "python",
   "nbconvert_exporter": "python",
   "pygments_lexer": "ipython3",
   "version": "3.8.8"
  }
 },
 "nbformat": 4,
 "nbformat_minor": 5
}
