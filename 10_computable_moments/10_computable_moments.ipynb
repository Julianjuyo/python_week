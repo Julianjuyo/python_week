{
 "cells": [
  {
   "cell_type": "code",
   "execution_count": 260,
   "metadata": {},
   "outputs": [
    {
     "name": "stdout",
     "output_type": "stream",
     "text": [
      "90000\n",
      "60000\n"
     ]
    }
   ],
   "source": [
    "# Read the input file\n",
    "framesLandScapes ={}\n",
    "portraits ={}\n",
    "intid =0\n",
    "\n",
    "with open('11_randomizing_paintings.txt','r') as f:\n",
    "    listl=[]\n",
    "\n",
    "    for line in f:\n",
    "        strip_lines=line.strip()\n",
    "        listli=strip_lines.split()\n",
    "        \n",
    "        if listli[0]==\"P\":\n",
    "            portraits[intid]={'paintId':intid,'type':listli[0], 'NumofTags':int(listli[1]), 'tags':listli[2:]}\n",
    "            intid =intid+1\n",
    "        elif listli[0]==\"L\":\n",
    "            framesLandScapes[intid]={'paintId':intid,'type':listli[0], 'NumofTags':int(listli[1]), 'tags':listli[2:]}\n",
    "            intid =intid+1\n",
    "\n",
    "# sort the portraits \n",
    "#for i in range(len(portraits)):\n",
    "#    portraits[i].insert(0,str(i))\n",
    "#portraits=sorted(portraits, key = lambda x: int(x[2]))\n",
    "\n",
    "print(intid)\n",
    "print(len(portraits))\n",
    "\n",
    "\n",
    "\n"
   ]
  },
  {
   "cell_type": "code",
   "execution_count": 261,
   "metadata": {},
   "outputs": [
    {
     "name": "stdout",
     "output_type": "stream",
     "text": [
      "60000\n"
     ]
    }
   ],
   "source": [
    "\n",
    "\n",
    "#print(portraits)  \n",
    "# First 0: {'paintId': 0, 'type': 'P', 'NumofTags': '7', 'tags': ['kw52', 'k17', 'kmz1', 'k1l', 'k8b1', 'kg6', 'kjb1']}\n",
    "# Last 999: {'paintId': 999, 'type': 'P', 'NumofTags': '5', 'tags': ['kpc', 'k4q', 'k3j1', 'k031', 'kqx']}\n",
    "\n",
    "\n",
    "newPortraits={}\n",
    "\n",
    "print(len(portraits))\n",
    "\n",
    "for i in range(int(len(portraits)/2)):\n",
    "\n",
    "    first = list(portraits.values())[0]\n",
    "    last = portraits[list(portraits)[-1]]\n",
    "    id= str(first[\"paintId\"])+\" \"+str(last[\"paintId\"])\n",
    "\n",
    "    newPortraits[id]={'paintId':id,'type':first[\"type\"], 'NumofTags':int(first[\"NumofTags\"])+int(last[\"NumofTags\"]), 'tags':first[\"tags\"]+last[\"tags\"]}\n",
    "\n",
    "    portraits.pop(first[\"paintId\"])\n",
    "    portraits.pop(last[\"paintId\"])\n",
    "    \n",
    "#print(len(newPortraits))\n",
    "#print(len(portraits))\n",
    "#print(newPortraits)\n",
    "\n",
    "    #for j in reversed(portraits):\n",
    "    #print(j, portraits[j])"
   ]
  },
  {
   "cell_type": "code",
   "execution_count": 262,
   "metadata": {},
   "outputs": [
    {
     "name": "stdout",
     "output_type": "stream",
     "text": [
      "60000\n"
     ]
    }
   ],
   "source": [
    "frames ={**newPortraits, **framesLandScapes}\n",
    "print(len(frames))"
   ]
  },
  {
   "cell_type": "code",
   "execution_count": 263,
   "metadata": {},
   "outputs": [],
   "source": [
    "from collections import OrderedDict\n",
    "\n",
    "d_descending = OrderedDict(sorted(frames.items(), key=lambda kv: kv[1]['NumofTags'], reverse=True))\n",
    "\n",
    "#print(d_descending)"
   ]
  },
  {
   "cell_type": "code",
   "execution_count": 264,
   "metadata": {},
   "outputs": [
    {
     "name": "stdout",
     "output_type": "stream",
     "text": [
      "12\n"
     ]
    }
   ],
   "source": [
    "mydict = {}\n",
    "\n",
    "countGroups=0\n",
    "curentkey=\"\"\n",
    "items = list(d_descending.items())\n",
    "\n",
    "for i in items:\n",
    "\n",
    "    result =[i[1][\"paintId\"],i[1][\"type\"],i[1][\"NumofTags\"],i[1][\"tags\"]]\n",
    "\n",
    "    if countGroups==5000:\n",
    "        countGroups=0\n",
    "        \n",
    "    if countGroups==0:\n",
    "        curentkey =i[0]\n",
    "        mydict[curentkey] =[]\n",
    "        mydict[curentkey].append(i)\n",
    "\n",
    "    else:\n",
    "        mydict[curentkey].append(i)\n",
    "\n",
    "\n",
    "    countGroups = countGroups+1\n",
    "    \n",
    "print(len(mydict))"
   ]
  },
  {
   "cell_type": "code",
   "execution_count": 265,
   "metadata": {},
   "outputs": [
    {
     "name": "stdout",
     "output_type": "stream",
     "text": [
      "Key 9778 80094\n",
      "number of frames 5000\n",
      "Local Score 50793\n",
      "--- 73.91200923919678 seconds ---\n",
      "Key 10349 79511\n",
      "number of frames 5000\n",
      "Local Score 44765\n",
      "--- 69.61238694190979 seconds ---\n",
      "Key 33342 56826\n",
      "number of frames 5000\n",
      "Local Score 26314\n",
      "--- 60.816015005111694 seconds ---\n",
      "Key 24072 66127\n",
      "number of frames 5000\n",
      "Local Score 23401\n",
      "--- 45.36812496185303 seconds ---\n",
      "Key 41935\n",
      "number of frames 5000\n",
      "Local Score 22014\n",
      "--- 42.36757016181946 seconds ---\n",
      "Key 19900\n",
      "number of frames 5000\n",
      "Local Score 16222\n",
      "--- 37.72425699234009 seconds ---\n",
      "Key 7949 81862\n",
      "number of frames 5000\n",
      "Local Score 14889\n",
      "--- 33.33967185020447 seconds ---\n",
      "Key 35722\n",
      "number of frames 5000\n",
      "Local Score 11414\n",
      "--- 33.191519021987915 seconds ---\n",
      "Key 34994 55206\n",
      "number of frames 5000\n",
      "Local Score 9480\n",
      "--- 31.824679136276245 seconds ---\n",
      "Key 89327\n",
      "number of frames 5000\n",
      "Local Score 6135\n",
      "--- 28.239337921142578 seconds ---\n",
      "Key 88141\n",
      "number of frames 5000\n",
      "Local Score 3036\n",
      "--- 26.17104411125183 seconds ---\n",
      "Key 33285\n",
      "number of frames 5000\n",
      "Local Score 1619\n",
      "--- 22.816588878631592 seconds ---\n",
      "The global Score is 230082\n"
     ]
    }
   ],
   "source": [
    "import time\n",
    "\n",
    "# Function that returns the robotic satisfaction \n",
    "def minvalue(set1, set2):\n",
    "    common = len(set(set1).intersection(set2))\n",
    "    return min(len(set1)-common, common, len(set2)-common)\n",
    "\n",
    "\n",
    "\n",
    "#This method will sort all the frames of a key maximazing the robot satisfaction\n",
    "def sortDictionary(arrayOfFrames):\n",
    "    data =[]\n",
    "    total=0\n",
    "\n",
    "    data.append(arrayOfFrames[0])\n",
    "    del arrayOfFrames[0]\n",
    "\n",
    "    # Loop to search all the frames.\n",
    "    for i in range(len(arrayOfFrames)):\n",
    "        numMaximunIntersection=0\n",
    "        nextFrame=[]\n",
    "\n",
    "        #loop to compare the actual frame with all of the others remaining\n",
    "        for j in arrayOfFrames:\n",
    "\n",
    "    \n",
    "\n",
    "            min = minvalue(set(data[0][1][\"tags\"]),set(j[1][\"tags\"]))\n",
    "\n",
    "            #Check which frame its the best to compare with \n",
    "            if min >=numMaximunIntersection:\n",
    "                nextFrame=j\n",
    "                numMaximunIntersection= min\n",
    "                \n",
    "        data.append(nextFrame)\n",
    "        total = total + numMaximunIntersection\n",
    "        arrayOfFrames.remove(nextFrame)\n",
    "\n",
    "\n",
    "    print(\"Local Score\",total)\n",
    "    return data,total\n",
    "\n",
    "# This method will sort all the dictionary\n",
    "def sortFramesArray(frameDict):\n",
    "\n",
    "    f= open(\"computable_moments_short.txt\",\"w+\")\n",
    "    f.write(str(len(items)))\n",
    "    f.write('\\n')\n",
    "    globalScore=0\n",
    "\n",
    "    #sort all the values of every key in a dictionary.\n",
    "    for key in frameDict:\n",
    "        \n",
    "        print(\"Key\",key)\n",
    "        print(\"number of frames\",len(frameDict[key]))\n",
    "        start_time = time.time()\n",
    "        \n",
    "        answer = sortDictionary(frameDict[key])\n",
    "        sortedArray = answer[0]\n",
    "        globalScore = globalScore+answer[1]\n",
    "        print(\"--- %s seconds ---\" % (time.time() - start_time))\n",
    "\n",
    "        for frame in sortedArray:\n",
    "            f.write(str(frame[0]))\n",
    "            f.write('\\n')\n",
    "            \n",
    "        # we could do multitheading here.\n",
    "   \n",
    "    print(\"The global Score is\",globalScore)\n",
    "    f.close\n",
    "\n",
    "#print(len(sortFramesArray(mydict)))\n",
    "\n",
    "sortFramesArray(mydict)\n"
   ]
  },
  {
   "cell_type": "code",
   "execution_count": 266,
   "metadata": {},
   "outputs": [
    {
     "data": {
      "text/html": [
       "<div>\n",
       "<style scoped>\n",
       "    .dataframe tbody tr th:only-of-type {\n",
       "        vertical-align: middle;\n",
       "    }\n",
       "\n",
       "    .dataframe tbody tr th {\n",
       "        vertical-align: top;\n",
       "    }\n",
       "\n",
       "    .dataframe thead th {\n",
       "        text-align: right;\n",
       "    }\n",
       "</style>\n",
       "<table border=\"1\" class=\"dataframe\">\n",
       "  <thead>\n",
       "    <tr style=\"text-align: right;\">\n",
       "      <th></th>\n",
       "      <th>60000</th>\n",
       "    </tr>\n",
       "  </thead>\n",
       "  <tbody>\n",
       "    <tr>\n",
       "      <th>0</th>\n",
       "      <td>9778 80094</td>\n",
       "    </tr>\n",
       "    <tr>\n",
       "      <th>1</th>\n",
       "      <td>16053 74006</td>\n",
       "    </tr>\n",
       "    <tr>\n",
       "      <th>2</th>\n",
       "      <td>10732 79165</td>\n",
       "    </tr>\n",
       "    <tr>\n",
       "      <th>3</th>\n",
       "      <td>39014 51298</td>\n",
       "    </tr>\n",
       "    <tr>\n",
       "      <th>4</th>\n",
       "      <td>2225 87760</td>\n",
       "    </tr>\n",
       "  </tbody>\n",
       "</table>\n",
       "</div>"
      ],
      "text/plain": [
       "         60000\n",
       "0   9778 80094\n",
       "1  16053 74006\n",
       "2  10732 79165\n",
       "3  39014 51298\n",
       "4   2225 87760"
      ]
     },
     "execution_count": 266,
     "metadata": {},
     "output_type": "execute_result"
    }
   ],
   "source": [
    "import pandas as pd\n",
    "\n",
    "dataset_raw = pd.read_csv('computable_moments_short.txt')\n",
    "\n",
    "dataset_raw.head(5)"
   ]
  },
  {
   "cell_type": "code",
   "execution_count": 267,
   "metadata": {},
   "outputs": [
    {
     "name": "stdout",
     "output_type": "stream",
     "text": [
      "60000\n"
     ]
    }
   ],
   "source": [
    "print(len(dataset_raw))"
   ]
  },
  {
   "cell_type": "code",
   "execution_count": 268,
   "metadata": {},
   "outputs": [
    {
     "data": {
      "text/plain": [
       "0"
      ]
     },
     "execution_count": 268,
     "metadata": {},
     "output_type": "execute_result"
    }
   ],
   "source": [
    "dataset_raw.duplicated().sum()"
   ]
  }
 ],
 "metadata": {
  "interpreter": {
   "hash": "40d3a090f54c6569ab1632332b64b2c03c39dcf918b08424e98f38b5ae0af88f"
  },
  "kernelspec": {
   "display_name": "Python 3.8.8 ('base')",
   "language": "python",
   "name": "python3"
  },
  "language_info": {
   "codemirror_mode": {
    "name": "ipython",
    "version": 3
   },
   "file_extension": ".py",
   "mimetype": "text/x-python",
   "name": "python",
   "nbconvert_exporter": "python",
   "pygments_lexer": "ipython3",
   "version": "3.8.8"
  },
  "orig_nbformat": 4
 },
 "nbformat": 4,
 "nbformat_minor": 2
}
