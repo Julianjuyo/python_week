{
 "cells": [
  {
   "cell_type": "code",
   "execution_count": 83,
   "id": "b5c23b43",
   "metadata": {},
   "outputs": [],
   "source": [
    "# Read the input file\n",
    "with open('data/1_binary_landscapes.txt','r') as f:\n",
    "    listl=[]\n",
    "\n",
    "    for line in f:\n",
    "        strip_lines=line.strip()\n",
    "        listli=strip_lines.split()\n",
    "        listl.append(listli)\n",
    "del listl[0]\n",
    "\n",
    "#Sort the file so that its in order by the amount of \n",
    "for i in range(len(listl)):\n",
    "    listl[i].insert(0,str(i))\n",
    "listl=sorted(listl, key = lambda x: int(x[2]))"
   ]
  },
  {
   "cell_type": "code",
   "execution_count": 84,
   "id": "d13a58dd",
   "metadata": {},
   "outputs": [],
   "source": [
    "mydict = {}\n",
    "\n",
    "# Travel the sorted list ans create a dictionary that each key is the number of tags and the value are an array of tags.\n",
    "for i in listl:\n",
    "\n",
    "    #chek if the dictionary exists and  the frame to an existing key.\n",
    "    if i[2] in mydict.keys():\n",
    "        mydict[i[2]].append(i)\n",
    "        \n",
    "    # create the key and add the frame\n",
    "    else:\n",
    "        mydict[i[2]] =[]\n",
    "        mydict[i[2]].append(i)"
   ]
  },
  {
   "cell_type": "code",
   "execution_count": 85,
   "id": "ff9fe2bc",
   "metadata": {},
   "outputs": [
    {
     "data": {
      "text/plain": [
       "['9',\n",
       " '12',\n",
       " '15',\n",
       " '18',\n",
       " '21',\n",
       " '24',\n",
       " '27',\n",
       " '30',\n",
       " '33',\n",
       " '36',\n",
       " '39',\n",
       " '42',\n",
       " '45',\n",
       " '51']"
      ]
     },
     "execution_count": 85,
     "metadata": {},
     "output_type": "execute_result"
    }
   ],
   "source": [
    "#sort the dictionary\n",
    "def my_key(dict_key):\n",
    "    try:\n",
    "         return int(dict_key)\n",
    "         \n",
    "    except ValueError:\n",
    "         return dict_key\n",
    "\n",
    "sorted(mydict, key=my_key)\n"
   ]
  },
  {
   "cell_type": "code",
   "execution_count": 86,
   "id": "44a4575b",
   "metadata": {},
   "outputs": [
    {
     "name": "stdout",
     "output_type": "stream",
     "text": [
      "1992\n"
     ]
    }
   ],
   "source": [
    "abc = mydict[\"9\"]\n",
    "del abc[0:2010]\n",
    "print(len(abc))"
   ]
  },
  {
   "cell_type": "code",
   "execution_count": 87,
   "id": "1a94c617",
   "metadata": {},
   "outputs": [],
   "source": [
    "import time\n",
    "\n",
    "# Function that returns the robotic satisfaction \n",
    "def minvalue(set1, set2):\n",
    "    left = set1-set2\n",
    "    inter= set1.intersection(set2)\n",
    "    right=set2-set1\n",
    "    return min(len(left),len(inter),len(right))\n",
    "\n",
    "\n",
    "#This method will sort all the frames of a key maximazing the robot satisfaction\n",
    "def sortDictionary(arrayOfFrames):\n",
    "    data =[]\n",
    "    total=0\n",
    "    data.append(arrayOfFrames[0])\n",
    "\n",
    "    arrayOfFramesAux= arrayOfFrames\n",
    "    del arrayOfFramesAux[0]\n",
    "\n",
    "    #print(arrayOfFramesAux)\n",
    "    \n",
    "    # Loop to search all the frames.\n",
    "    for i in range(len(arrayOfFrames)):\n",
    "        numMaximunIntersection=0\n",
    "        nextFrame=[]\n",
    "        \n",
    "        #loop to compare the actual frame with all of the others remaining\n",
    "        for j in arrayOfFramesAux:\n",
    "            #print(\"HERE\",data[i])\n",
    "            #print(\"HERE WITH\",j)\n",
    "            min = minvalue(set(data[i][3:]),set(j[3:]))\n",
    "            \n",
    "            #Check which frame its the best to compare with \n",
    "            if min >= numMaximunIntersection:        \n",
    "                nextFrame=j\n",
    "                numMaximunIntersection= min\n",
    "                \n",
    "        \n",
    "        data.append(nextFrame)\n",
    "        total = total + numMaximunIntersection\n",
    "        arrayOfFramesAux.remove(j)\n",
    "        #print(\"NEWWWWW\",data)\n",
    "\n",
    "    print(\"Total\",total)\n",
    "    return data\n",
    "\n",
    "# This method will sort all the dictionary\n",
    "def sortFramesArray(frameDict):\n",
    "\n",
    "    listWithFrames = []\n",
    "\n",
    "    #sort all the values of every key in a dictionary.\n",
    "    for key in frameDict:\n",
    "        \n",
    "        print(key)\n",
    "        start_time = time.time()\n",
    "        sortedArray = sortDictionary(abc)#frameDict[key])\n",
    "        print(\"--- %s seconds ---\" % (time.time() - start_time))\n",
    "        print(len(sortedArray))\n",
    "\n",
    "        listWithFrames.append(sortedArray)\n",
    "        # we could do multitheading here.\n",
    "        break\n",
    "    return listWithFrames\n",
    "\n",
    "#print(len(sortFramesArray(mydict)))\n"
   ]
  },
  {
   "cell_type": "code",
   "execution_count": 88,
   "id": "6517539a",
   "metadata": {},
   "outputs": [
    {
     "name": "stdout",
     "output_type": "stream",
     "text": [
      "9\n",
      "Total 1560\n",
      "--- 5.761868953704834 seconds ---\n",
      "1992\n",
      "['40678', 'L', '9', 'aamhk', 'alfpw', 'a470u', 'abpb6', 'acp8s', 'aj795', 'afnuq', 'a19d2', 'abhpb']\n"
     ]
    },
    {
     "data": {
      "text/plain": [
       "<function TextIOWrapper.close()>"
      ]
     },
     "execution_count": 88,
     "metadata": {},
     "output_type": "execute_result"
    }
   ],
   "source": [
    "# Create the output file\n",
    "f= open(\"landscapes.txt\",\"w+\")\n",
    "arr = sortFramesArray(mydict)\n",
    "f.write(str(len(arr)))\n",
    "\n",
    "for i in arr:\n",
    "\n",
    "    print(i[0])\n",
    "    \n",
    "    f.write(i[0][0])\n",
    "    f.write('\\n')\n",
    "   \n",
    "\n",
    "f.close"
   ]
  },
  {
   "cell_type": "code",
   "execution_count": null,
   "id": "575d2c49",
   "metadata": {},
   "outputs": [],
   "source": []
  }
 ],
 "metadata": {
  "kernelspec": {
   "display_name": "Python 3 (ipykernel)",
   "language": "python",
   "name": "python3"
  },
  "language_info": {
   "codemirror_mode": {
    "name": "ipython",
    "version": 3
   },
   "file_extension": ".py",
   "mimetype": "text/x-python",
   "name": "python",
   "nbconvert_exporter": "python",
   "pygments_lexer": "ipython3",
   "version": "3.8.8"
  }
 },
 "nbformat": 4,
 "nbformat_minor": 5
}
