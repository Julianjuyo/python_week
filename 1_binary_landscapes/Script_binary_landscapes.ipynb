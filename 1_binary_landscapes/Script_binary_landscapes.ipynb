{
 "cells": [
  {
   "cell_type": "code",
   "execution_count": 35,
   "id": "b5c23b43",
   "metadata": {},
   "outputs": [
    {
     "name": "stdout",
     "output_type": "stream",
     "text": [
      "80000\n"
     ]
    }
   ],
   "source": [
    "# Read the input file\n",
    "with open('1_binary_landscapes.txt','r') as f:\n",
    "    listl=[]\n",
    "\n",
    "    for line in f:\n",
    "        strip_lines=line.strip()\n",
    "        listli=strip_lines.split()\n",
    "        listl.append(listli)\n",
    "del listl[0]\n",
    "\n",
    "#Sort the file so that its in order by the amount of \n",
    "for i in range(len(listl)):\n",
    "    listl[i].insert(0,str(i))\n",
    "listl=sorted(listl, key = lambda x: int(x[2]))\n",
    "\n",
    "print(len(listl))"
   ]
  },
  {
   "cell_type": "code",
   "execution_count": 36,
   "id": "d13a58dd",
   "metadata": {},
   "outputs": [],
   "source": [
    "mydict = {}\n",
    "\n",
    "'''\n",
    "# Travel the sorted list ans create a dictionary that each key is the number of tags and the value are an array of tags.\n",
    "countGroups=0\n",
    "\n",
    "for i in listl:\n",
    "\n",
    "    #chek if the dictionary exists and  the frame to an existing key.\n",
    "    if i[2] in mydict.keys():\n",
    "        mydict[i[2]].append(i)\n",
    "        \n",
    "    # create the key and add the frame\n",
    "    else:\n",
    "        mydict[i[2]] =[]\n",
    "        mydict[i[2]].append(i)\n",
    "'''\n",
    "\n",
    "countGroups=0\n",
    "curentkey=\"\"\n",
    "\n",
    "for i in listl:\n",
    "\n",
    "    if countGroups==4000:\n",
    "        countGroups=0\n",
    "        break\n",
    "\n",
    "    if countGroups==0:\n",
    "        \n",
    "        curentkey =i[0]\n",
    "        mydict[curentkey] =[]\n",
    "        mydict[curentkey].append(i)\n",
    "\n",
    "    else:\n",
    "    \n",
    "        mydict[curentkey].append(i)\n",
    "\n",
    "\n",
    "    countGroups = countGroups+1\n",
    "\n"
   ]
  },
  {
   "cell_type": "code",
   "execution_count": 37,
   "id": "ff9fe2bc",
   "metadata": {},
   "outputs": [
    {
     "data": {
      "text/plain": [
       "'\\ndef my_key(dict_key):\\n    try:\\n         return int(dict_key)\\n         \\n    except ValueError:\\n         return dict_key\\n\\nsorted(mydict, key=my_key)\\n\\n'"
      ]
     },
     "execution_count": 37,
     "metadata": {},
     "output_type": "execute_result"
    }
   ],
   "source": [
    "#sort the dictionary\n",
    "'''\n",
    "def my_key(dict_key):\n",
    "    try:\n",
    "         return int(dict_key)\n",
    "         \n",
    "    except ValueError:\n",
    "         return dict_key\n",
    "\n",
    "sorted(mydict, key=my_key)\n",
    "\n",
    "'''"
   ]
  },
  {
   "cell_type": "code",
   "execution_count": 38,
   "id": "e0f6e245",
   "metadata": {},
   "outputs": [
    {
     "name": "stdout",
     "output_type": "stream",
     "text": [
      "[4000]\n"
     ]
    }
   ],
   "source": [
    "values=[]\n",
    "for i in mydict:\n",
    "    values.append(len(mydict[i]))\n",
    "\n",
    "print(values)    "
   ]
  },
  {
   "cell_type": "code",
   "execution_count": 39,
   "id": "44a4575b",
   "metadata": {},
   "outputs": [],
   "source": [
    "#abc = mydict[\"9\"]\n",
    "#del abc[0:990]\n",
    "#print(len(abc))\n",
    "#print(*abc,sep='\\n')"
   ]
  },
  {
   "cell_type": "code",
   "execution_count": 40,
   "id": "1a94c617",
   "metadata": {},
   "outputs": [
    {
     "name": "stdout",
     "output_type": "stream",
     "text": [
      "Key 1\n",
      "number of frames 4000\n",
      "Local Score 609\n",
      "--- 18.10267686843872 seconds ---\n",
      "The global Score is 609\n"
     ]
    }
   ],
   "source": [
    "import time\n",
    "\n",
    "# Function that returns the robotic satisfaction \n",
    "def minvalue(set1, set2):\n",
    "    common = len(set(set1).intersection(set2))\n",
    "    return min(len(set1)-common, common, len(set2)-common)\n",
    "\n",
    "\n",
    "\n",
    "#This method will sort all the frames of a key maximazing the robot satisfaction\n",
    "def sortDictionary(arrayOfFrames):\n",
    "    data =[]\n",
    "    total=0\n",
    "    data.append(arrayOfFrames[0])\n",
    "    del arrayOfFrames[0]\n",
    "\n",
    "    # Loop to search all the frames.\n",
    "    for i in range(len(arrayOfFrames)):\n",
    "        numMaximunIntersection=0\n",
    "        nextFrame=[]\n",
    "\n",
    "        #loop to compare the actual frame with all of the others remaining\n",
    "        for j in arrayOfFrames:\n",
    "\n",
    "            min = minvalue(set(data[i][3:]),set(j[3:]))\n",
    "\n",
    "            #Check which frame its the best to compare with \n",
    "            if min >=numMaximunIntersection:\n",
    "                nextFrame=j\n",
    "                numMaximunIntersection= min\n",
    "                \n",
    "        data.append(nextFrame)\n",
    "        total = total + numMaximunIntersection\n",
    "        arrayOfFrames.remove(nextFrame)\n",
    "\n",
    "\n",
    "    print(\"Local Score\",total)\n",
    "    return data,total\n",
    "\n",
    "# This method will sort all the dictionary\n",
    "def sortFramesArray(frameDict):\n",
    "\n",
    "    f= open(\"landscapes.txt\",\"w+\")\n",
    "    f.write(str(len(listl)))\n",
    "    f.write('\\n')\n",
    "    globalScore=0\n",
    "\n",
    "    #sort all the values of every key in a dictionary.\n",
    "    for key in frameDict:\n",
    "        \n",
    "        print(\"Key\",key)\n",
    "        print(\"number of frames\",len(frameDict[key]))\n",
    "        start_time = time.time()\n",
    "        \n",
    "        answer = sortDictionary(frameDict[key])\n",
    "        sortedArray = answer[0]\n",
    "        globalScore = globalScore+answer[1]\n",
    "        print(\"--- %s seconds ---\" % (time.time() - start_time))\n",
    "\n",
    "        for frame in sortedArray:\n",
    "            f.write(frame[0])\n",
    "            f.write('\\n')\n",
    "            \n",
    "        # we could do multitheading here.\n",
    "   \n",
    "    print(\"The global Score is\",globalScore)\n",
    "    f.close\n",
    "\n",
    "#print(len(sortFramesArray(mydict)))\n",
    "\n",
    "sortFramesArray(mydict)\n"
   ]
  },
  {
   "cell_type": "code",
   "execution_count": 41,
   "id": "575d2c49",
   "metadata": {},
   "outputs": [
    {
     "data": {
      "text/html": [
       "<div>\n",
       "<style scoped>\n",
       "    .dataframe tbody tr th:only-of-type {\n",
       "        vertical-align: middle;\n",
       "    }\n",
       "\n",
       "    .dataframe tbody tr th {\n",
       "        vertical-align: top;\n",
       "    }\n",
       "\n",
       "    .dataframe thead th {\n",
       "        text-align: right;\n",
       "    }\n",
       "</style>\n",
       "<table border=\"1\" class=\"dataframe\">\n",
       "  <thead>\n",
       "    <tr style=\"text-align: right;\">\n",
       "      <th></th>\n",
       "      <th>80000</th>\n",
       "    </tr>\n",
       "  </thead>\n",
       "  <tbody>\n",
       "    <tr>\n",
       "      <th>0</th>\n",
       "      <td>1</td>\n",
       "    </tr>\n",
       "    <tr>\n",
       "      <th>1</th>\n",
       "      <td>79913</td>\n",
       "    </tr>\n",
       "    <tr>\n",
       "      <th>2</th>\n",
       "      <td>79882</td>\n",
       "    </tr>\n",
       "    <tr>\n",
       "      <th>3</th>\n",
       "      <td>79877</td>\n",
       "    </tr>\n",
       "    <tr>\n",
       "      <th>4</th>\n",
       "      <td>79874</td>\n",
       "    </tr>\n",
       "  </tbody>\n",
       "</table>\n",
       "</div>"
      ],
      "text/plain": [
       "   80000\n",
       "0      1\n",
       "1  79913\n",
       "2  79882\n",
       "3  79877\n",
       "4  79874"
      ]
     },
     "execution_count": 41,
     "metadata": {},
     "output_type": "execute_result"
    }
   ],
   "source": [
    "import pandas as pd\n",
    "\n",
    "dataset_raw = pd.read_csv('landscapes.txt')\n",
    "\n",
    "dataset_raw.head(5)"
   ]
  },
  {
   "cell_type": "code",
   "execution_count": 42,
   "id": "3c9d0714",
   "metadata": {},
   "outputs": [
    {
     "name": "stdout",
     "output_type": "stream",
     "text": [
      "4000\n"
     ]
    }
   ],
   "source": [
    "print(len(dataset_raw))"
   ]
  },
  {
   "cell_type": "code",
   "execution_count": 43,
   "id": "c46b906f",
   "metadata": {},
   "outputs": [
    {
     "data": {
      "text/plain": [
       "0"
      ]
     },
     "execution_count": 43,
     "metadata": {},
     "output_type": "execute_result"
    }
   ],
   "source": [
    "dataset_raw.duplicated().sum()"
   ]
  },
  {
   "cell_type": "code",
   "execution_count": null,
   "id": "4aaee159",
   "metadata": {},
   "outputs": [],
   "source": []
  }
 ],
 "metadata": {
  "kernelspec": {
   "display_name": "Python 3 (ipykernel)",
   "language": "python",
   "name": "python3"
  },
  "language_info": {
   "codemirror_mode": {
    "name": "ipython",
    "version": 3
   },
   "file_extension": ".py",
   "mimetype": "text/x-python",
   "name": "python",
   "nbconvert_exporter": "python",
   "pygments_lexer": "ipython3",
   "version": "3.8.8"
  }
 },
 "nbformat": 4,
 "nbformat_minor": 5
}
